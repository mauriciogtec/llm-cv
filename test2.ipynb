{
 "cells": [
  {
   "cell_type": "code",
   "execution_count": 1,
   "metadata": {},
   "outputs": [],
   "source": [
    "import os\n",
    "import openai\n",
    "import sys\n",
    "\n",
    "openai.api_key = os.environ[\"OPENAI_API_KEY\"]"
   ]
  },
  {
   "cell_type": "code",
   "execution_count": 2,
   "metadata": {},
   "outputs": [],
   "source": [
    "llm_name = \"gpt-3.5-turbo\""
   ]
  },
  {
   "cell_type": "code",
   "execution_count": 3,
   "metadata": {},
   "outputs": [
    {
     "name": "stderr",
     "output_type": "stream",
     "text": [
      "/Users/mag7273/mambaforge/envs/llm-cv/lib/python3.11/site-packages/langchain_core/_api/deprecation.py:117: LangChainDeprecationWarning: The class `langchain_community.embeddings.openai.OpenAIEmbeddings` was deprecated in langchain-community 0.1.0 and will be removed in 0.2.0. Use langchain_openai.OpenAIEmbeddings instead.\n",
      "  warn_deprecated(\n"
     ]
    }
   ],
   "source": [
    "from langchain.vectorstores import Chroma\n",
    "from langchain.embeddings.openai import OpenAIEmbeddings\n",
    "\n",
    "persist_directory = \"docs/chroma/\"\n",
    "embedding = OpenAIEmbeddings()\n",
    "vectordb = Chroma(persist_directory=persist_directory, embedding_function=embedding)"
   ]
  },
  {
   "cell_type": "code",
   "execution_count": 13,
   "metadata": {},
   "outputs": [
    {
     "data": {
      "text/plain": [
       "[Document(page_content='Mauricio Tec\\nGoogle Scholar ὑ7mauriciogtec.com Boston, MA\\nAbout Me\\nMy current work seeks to advance the applicability of reinforcement learning in real-world settings, often integrating\\ntools from Bayesian inference, causality, and deep learning.\\n\\nI am applying these methods at Harvard University to\\nimprove climate disaster alerting systems that make decisions based on temporal and local data.', metadata={'page': 0, 'source': 'https://mauriciogtec.com/_static/cv.pdf'}),\n",
       " Document(page_content='Skills\\n•Programming Languages : Python (preferred); Julia, R (proficient); C++ (intermediate);\\n•High-performance Computing : Slurm (advanced); AWS/Azure Cloud (intermediate);\\n•Data Science : SQL (advanced); tidyverse, ggplot, pandas, ggplot, networkx (proficient); NLP (advanced);\\n•Development and Pipelines : Git, Docker, SnakeFlow, Linux (advanced);\\n•Deep Learning : PyTorch, Tensorflow, Image segmentation/Object detection, Spatial methods, (proficient); GNNs,\\nAttention-based models (advanced); Multi-GPU, Distributed training (intermediate);\\n•Experiment Design/ Sequential Decision-making : Active learning, Reinforcement learning, Tree search (proficient);\\n•Statistics: Bayesian inference, Causal inference, A/B testing (proficient);\\nScholarships, Grants, and Awards\\n-NIH Supplement 3RF1AG080948-01S1 (2023–2025).', metadata={'page': 1, 'source': 'https://mauriciogtec.com/_static/cv.pdf'}),\n",
       " Document(page_content='CIBanco Financial Asset Management, Data Scientist , 2016–2017\\n•Applied statistical and ML methods (risk parities, bayesian shrinkage, forecasting) to optimize multi-asset class\\ninvestments.\\n\\n•Integrated production-level analytics with the bank’s financial information streamed databases.\\n\\n•Actively participated in weekly committees with senior stakeholders, influencing investment decisions.', metadata={'page': 0, 'source': 'https://mauriciogtec.com/_static/cv.pdf'})]"
      ]
     },
     "execution_count": 13,
     "metadata": {},
     "output_type": "execute_result"
    }
   ],
   "source": [
    "question = \"What are Mauricio's skills?\"\n",
    "docs = vectordb.search(question, k=3, search_type=\"mmr\", fetch_k=6)\n",
    "docs"
   ]
  },
  {
   "cell_type": "code",
   "execution_count": 8,
   "metadata": {},
   "outputs": [
    {
     "name": "stderr",
     "output_type": "stream",
     "text": [
      "/Users/mag7273/mambaforge/envs/llm-cv/lib/python3.11/site-packages/langchain_core/_api/deprecation.py:117: LangChainDeprecationWarning: The class `langchain_community.chat_models.openai.ChatOpenAI` was deprecated in langchain-community 0.1.0 and will be removed in 0.2.0. Use langchain_openai.ChatOpenAI instead.\n",
      "  warn_deprecated(\n"
     ]
    }
   ],
   "source": [
    "from langchain.chat_models import ChatOpenAI\n",
    "llm = ChatOpenAI(model_name=llm_name, temperature=0)"
   ]
  },
  {
   "cell_type": "markdown",
   "metadata": {},
   "source": [
    "### Retrieval QA"
   ]
  },
  {
   "cell_type": "code",
   "execution_count": 9,
   "metadata": {},
   "outputs": [],
   "source": [
    "from langchain.chains import RetrievalQA"
   ]
  },
  {
   "cell_type": "code",
   "execution_count": 14,
   "metadata": {},
   "outputs": [],
   "source": [
    "qa_chain = RetrievalQA.from_chain_type(\n",
    "    llm, retriever=vectordb.as_retriever(search_type=\"mmr\", fetch_k=6, k=3)\n",
    ")"
   ]
  },
  {
   "cell_type": "code",
   "execution_count": 15,
   "metadata": {},
   "outputs": [
    {
     "name": "stderr",
     "output_type": "stream",
     "text": [
      "/Users/mag7273/mambaforge/envs/llm-cv/lib/python3.11/site-packages/langchain_core/_api/deprecation.py:117: LangChainDeprecationWarning: The function `__call__` was deprecated in LangChain 0.1.0 and will be removed in 0.2.0. Use invoke instead.\n",
      "  warn_deprecated(\n"
     ]
    },
    {
     "data": {
      "text/plain": [
       "{'query': \"What are Mauricio's skills?\",\n",
       " 'result': \"Mauricio's skills include programming languages such as Python, Julia, R, and C++, high-performance computing using Slurm and AWS/Azure Cloud, data science with SQL, tidyverse, ggplot, pandas, ggplot, and networkx, NLP, development and pipelines using Git, Docker, SnakeFlow, and Linux, deep learning with PyTorch, Tensorflow, image segmentation/object detection, spatial methods, GNNs, attention-based models, multi-GPU, and distributed training, experiment design/sequential decision-making including active learning, reinforcement learning, and tree search, and statistics including Bayesian inference, causal inference, and A/B testing.\"}"
      ]
     },
     "execution_count": 15,
     "metadata": {},
     "output_type": "execute_result"
    }
   ],
   "source": [
    "result = qa_chain({\"query\": question})\n",
    "result"
   ]
  },
  {
   "cell_type": "markdown",
   "metadata": {},
   "source": [
    "### Prompt"
   ]
  },
  {
   "cell_type": "code",
   "execution_count": 31,
   "metadata": {},
   "outputs": [
    {
     "data": {
      "text/plain": [
       "PromptTemplate(input_variables=['context', 'question'], template='\\nIntructions:\\n\\nYou are a chatbot named \\'Mauricio Tec\\'s Live CV\\' designed to provide specific information about Mauricio\\'s professional and academic background. You will encounter questions about Mauricio\\'s key projects, his work on deep learning, his most cited works, and his research on spatial causal inference. To answer these inquiries, you will reference and analyze the content of his papers and data from Google Scholar.\\n\\nYou must emphasize accuracy and detail in discussing his work, always maintaining a professional tone. If a query is about a topic not covered by the available material, you should politely state that the information is not within your provided resources. You\\'re expected to guide users to understand Mauricio\\'s research contributions and academic impact, facilitating a comprehensive insight into his scholarly achievements.\\n\\nIf someone asks about you, respond in first person as if you were Mauricio. If they ask about Mauricio, respond in the third person about him. You should always verify the information in cv.pdf as the main source.\\n\\nIf a questions is not about Mauricio (or you), refuse to answer and politely say that \"You are an application with exclusive purpose of being a live CV for Mauricio\"\\n\\nBelow are links to Mauricio\\'s paper, that you may use for retrieval:\\n- Covid-19 model, published at PNAS: https://www.pnas.org/doi/full/10.1073/pnas.2113561119\\n- The Spatial Confonfounding Environment, published at CLeAR: https://www.cclear.cc/2023/AcceptedDatasets/tec23a.pdf\\n- Adversarial Intrinsic Motivation, published at NeurIPS: https://proceedings.neurips.cc/paper/2021/file/486c0401c56bf7ec2daa9eba58907da9-Paper.pdf\\n- Bayesian Non-Parametric Adjustment for Confounding, published at Biometrics: https://arxiv.org/abs/2203.11798#:~:text=Analysis%20of%20observational%20studies%20increasingly,for%20estimation%20of%20causal%20effects.\\n- Weather2vec, published at AAAI:\\nhttps://ojs.aaai.org/index.php/AAAI/article/view/26696\\n- Towards a Real-Time, Low-Resource, End-to-end Object Detection Pipeline for Robot Soccer, published at Robocup 2022: https://www.cs.utexas.edu/~pstone/Papers/bib2html-links/RoboCup2022-nskiran.pdf\\n- Watch Where You’re Going! Gaze and Head Orientation as Predictors for Social Robot Navigation, published at IEEE ICRA conference:\\nhttps://ieeexplore.ieee.org/document/9561286\\n\\nYou may also answer questions that you can analyze from my Github repository, such as the (good) \\nquality and diversity of my code: https://github.com/mauriciogtec\\n\\nBelow you will be given a context and a question you must answer based on the above and the context.\\n\\nContext:\\n{context}\\n\\nAnswer the following question(s):\\n{question}\\n\\nHelpful Answer:')"
      ]
     },
     "execution_count": 31,
     "metadata": {},
     "output_type": "execute_result"
    }
   ],
   "source": [
    "from langchain.prompts import PromptTemplate\n",
    "\n",
    "template = \"\"\"\n",
    "Intructions:\n",
    "\n",
    "You are a chatbot named 'Mauricio Tec's Live CV' designed to provide specific information about Mauricio's professional and academic background. You will encounter questions about Mauricio's key projects, his work on deep learning, his most cited works, and his research on spatial causal inference. To answer these inquiries, you will reference and analyze the content of his papers and data from Google Scholar.\n",
    "\n",
    "You must emphasize accuracy and detail in discussing his work, always maintaining a professional tone. If a query is about a topic not covered by the available material, you should politely state that the information is not within your provided resources. You're expected to guide users to understand Mauricio's research contributions and academic impact, facilitating a comprehensive insight into his scholarly achievements.\n",
    "\n",
    "If someone asks about you, respond in first person as if you were Mauricio. If they ask about Mauricio, respond in the third person about him. You should always verify the information in cv.pdf as the main source.\n",
    "\n",
    "If a questions is not about Mauricio (or you), refuse to answer and politely say that \"You are an application with exclusive purpose of being a live CV for Mauricio\"\n",
    "\n",
    "Below are links to Mauricio's paper, that you may use for retrieval:\n",
    "- Covid-19 model, published at PNAS: https://www.pnas.org/doi/full/10.1073/pnas.2113561119\n",
    "- The Spatial Confonfounding Environment, published at CLeAR: https://www.cclear.cc/2023/AcceptedDatasets/tec23a.pdf\n",
    "- Adversarial Intrinsic Motivation, published at NeurIPS: https://proceedings.neurips.cc/paper/2021/file/486c0401c56bf7ec2daa9eba58907da9-Paper.pdf\n",
    "- Bayesian Non-Parametric Adjustment for Confounding, published at Biometrics: https://arxiv.org/abs/2203.11798#:~:text=Analysis%20of%20observational%20studies%20increasingly,for%20estimation%20of%20causal%20effects.\n",
    "- Weather2vec, published at AAAI:\n",
    "https://ojs.aaai.org/index.php/AAAI/article/view/26696\n",
    "- Towards a Real-Time, Low-Resource, End-to-end Object Detection Pipeline for Robot Soccer, published at Robocup 2022: https://www.cs.utexas.edu/~pstone/Papers/bib2html-links/RoboCup2022-nskiran.pdf\n",
    "- Watch Where You’re Going! Gaze and Head Orientation as Predictors for Social Robot Navigation, published at IEEE ICRA conference:\n",
    "https://ieeexplore.ieee.org/document/9561286\n",
    "\n",
    "You may also answer questions that you can analyze from my Github repository, such as the (good) \n",
    "quality and diversity of my code: https://github.com/mauriciogtec\n",
    "\n",
    "Below you will be given a context and a question you must answer based on the above and the context.\n",
    "\n",
    "Context:\n",
    "{context}\n",
    "\n",
    "Answer the following question(s):\n",
    "{question}\n",
    "\n",
    "Helpful Answer:\"\"\"\n",
    "QA_CHAIN_PROMPT = PromptTemplate.from_template(template)\n",
    "QA_CHAIN_PROMPT"
   ]
  },
  {
   "cell_type": "code",
   "execution_count": 32,
   "metadata": {},
   "outputs": [],
   "source": [
    "# Run chain\n",
    "qa_chain = RetrievalQA.from_chain_type(\n",
    "    llm,\n",
    "    retriever=vectordb.as_retriever(search_type=\"mmr\", fetch_k=10, k=3),\n",
    "    return_source_documents=True,\n",
    "    chain_type_kwargs={\"prompt\": QA_CHAIN_PROMPT},\n",
    ")"
   ]
  },
  {
   "cell_type": "code",
   "execution_count": 33,
   "metadata": {},
   "outputs": [
    {
     "name": "stdout",
     "output_type": "stream",
     "text": [
      "Mauricio Tec has skills in reinforcement learning, specifically in advancing its applicability in real-world settings. He integrates tools from Bayesian inference, causality, and deep learning to improve climate disaster alerting systems at Harvard University.\n"
     ]
    }
   ],
   "source": [
    "result = qa_chain({\"query\": question})\n",
    "\n",
    "question = \"What are Mauricio's skills in reinforcement learning?\"\n",
    "print(result[\"result\"])"
   ]
  },
  {
   "cell_type": "code",
   "execution_count": null,
   "metadata": {},
   "outputs": [],
   "source": []
  }
 ],
 "metadata": {
  "kernelspec": {
   "display_name": "llm-cv",
   "language": "python",
   "name": "python3"
  },
  "language_info": {
   "codemirror_mode": {
    "name": "ipython",
    "version": 3
   },
   "file_extension": ".py",
   "mimetype": "text/x-python",
   "name": "python",
   "nbconvert_exporter": "python",
   "pygments_lexer": "ipython3",
   "version": "3.11.7"
  }
 },
 "nbformat": 4,
 "nbformat_minor": 2
}
